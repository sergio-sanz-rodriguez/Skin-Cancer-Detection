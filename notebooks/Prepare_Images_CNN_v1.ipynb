{
 "cells": [
  {
   "cell_type": "code",
   "execution_count": 1,
   "id": "23281dcf-0ad3-4d07-ac4d-ce3ef5cb1167",
   "metadata": {},
   "outputs": [],
   "source": [
    "# Import required libraries\n",
    "import os\n",
    "import re\n",
    "import cv2\n",
    "import shutil\n",
    "import numpy as np\n",
    "import pandas as pd\n",
    "from tqdm import tqdm\n",
    "from sklearn.model_selection import train_test_split"
   ]
  },
  {
   "cell_type": "markdown",
   "id": "b6fad121-ca93-437a-a41b-d492cf80ce47",
   "metadata": {},
   "source": [
    "# Reading and Processing Functions"
   ]
  },
  {
   "cell_type": "code",
   "execution_count": 2,
   "id": "9c150a15-0192-41b6-900f-04d6c45ad570",
   "metadata": {},
   "outputs": [],
   "source": [
    "# Function to get all image files belonging to image_list in a given directory\n",
    "def get_folder_files(folder_path, image_list):  \n",
    "\n",
    "    files = [os.path.join(folder_path, f\"{image}.jpg\") for image in image_list]\n",
    "    return files\n",
    "                   \n",
    "# Function to create and write images for each file path in given directories.\n",
    "def create_and_write_img(file_paths, file_ids, file_targets, save_dir_0, save_dir_1, desc=None):\n",
    "    \n",
    "    # Iterate over each file_path and file_id pair using zip(file_paths, file_ids), while also displaying a progress bar using tqdm.\n",
    "    for file_path, file_id, file_target, in tqdm(zip(file_paths, file_ids, file_targets), ascii=True, total=len(file_ids), desc=desc, leave=True):\n",
    "        \n",
    "        # Build the new file name\n",
    "        new_name = file_id + \".jpg\"\n",
    "\n",
    "        # Build the image path\n",
    "        if file_target == 0:\n",
    "            dst_img_path = os.path.join(save_dir_0, new_name)\n",
    "        else:\n",
    "            dst_img_path = os.path.join(save_dir_1, new_name)\n",
    "            \n",
    "        # Copy the file from the original location to the destination directory\n",
    "        shutil.copy(file_path, dst_img_path)\n",
    "        \n",
    "    return\n",
    "\n",
    "def rsync_images(src_dirs, dest_dir):\n",
    "\n",
    "    # Execute rsync for each source directory\n",
    "    for src_dir in src_dirs:\n",
    "        command = ['rsync', '-a', f'{src_dir}/', dest_dir]\n",
    "        result = subprocess.run(command, capture_output=True, text=True)\n",
    "\n",
    "        # Print output and errors for debugging\n",
    "        print(result.stdout)\n",
    "        if result.stderr:\n",
    "            print(f\"Error: {result.stderr}\")\n",
    "    return\n",
    "\n",
    "# Function to count files in a directory\n",
    "def count_files(target_dir):\n",
    "    return len([name for name in os.listdir(directory) if os.path.isfile(os.path.join(directory, name))])"
   ]
  },
  {
   "cell_type": "markdown",
   "id": "a2c9b71b-99a8-486d-8602-e754e0f1fc5a",
   "metadata": {},
   "source": [
    "# Prepare Images for CNN Classification"
   ]
  },
  {
   "cell_type": "code",
   "execution_count": 3,
   "id": "b5a1e50b-1012-498b-ab6a-ce950c632b07",
   "metadata": {},
   "outputs": [],
   "source": [
    "# Read the dataset\n",
    "ROOT_DATASET_DIR = \"./\"\n",
    "file_name = os.path.join(ROOT_DATASET_DIR,\"train-metadata-eda-fe-v3-kaggle.csv\")\n",
    "df = pd.read_csv(file_name)"
   ]
  },
  {
   "cell_type": "code",
   "execution_count": 4,
   "id": "7d6e77ed-f8f1-49c4-bf24-28c678590ff6",
   "metadata": {},
   "outputs": [],
   "source": [
    "# Define paths for training and test image directories\n",
    "ORIG_IMG_DIR = os.path.join(\"..\",\"isic-2024-challenge\",\"train-image\",\"image\")\n",
    "CASE_FOLDERS = os.listdir(ORIG_IMG_DIR)\n",
    "ROOT_IMAGE_DIR =  os.path.join(\"..\",\"images\")\n",
    "ROOT_TRAIN_DIR_0 = os.path.join(ROOT_IMAGE_DIR, \"train\", \"0\")\n",
    "ROOT_TRAIN_DIR_1 = os.path.join(ROOT_IMAGE_DIR, \"train\", \"1\")\n",
    "ROOT_TEST_DIR_0 = os.path.join(ROOT_IMAGE_DIR, \"test\", \"0\")\n",
    "ROOT_TEST_DIR_1 = os.path.join(ROOT_IMAGE_DIR, \"test\", \"1\")\n",
    "\n",
    "ROOT_CROSS_DIR_0 = os.path.join(ROOT_IMAGE_DIR, \"crossval\", \"0\")\n",
    "ROOT_CROSS_DIR_1 = os.path.join(ROOT_IMAGE_DIR, \"crossval\", \"1\")\n",
    "\n",
    "# Create directories if not already present\n",
    "os.makedirs(ROOT_TRAIN_DIR_0, exist_ok=True)\n",
    "os.makedirs(ROOT_TRAIN_DIR_1, exist_ok=True)\n",
    "os.makedirs(ROOT_TEST_DIR_0, exist_ok=True)\n",
    "os.makedirs(ROOT_TEST_DIR_1, exist_ok=True)\n",
    "os.makedirs(ROOT_CROSS_DIR_0, exist_ok=True)\n",
    "os.makedirs(ROOT_CROSS_DIR_1, exist_ok=True)\n",
    "\n",
    "TARGET_SIZE = (128, 128) # assumed 128x128\n",
    "TRAIN_TEST_SPLIT = 0.15"
   ]
  },
  {
   "cell_type": "code",
   "execution_count": 5,
   "id": "d9afe274-fb6c-4acc-a291-42a973c26f90",
   "metadata": {},
   "outputs": [],
   "source": [
    "# Train-test split\n",
    "X = df.drop(['target'], axis=1)\n",
    "y = df['target']\n",
    "X_train, X_test, y_train, y_test = train_test_split(X, y, test_size=TRAIN_TEST_SPLIT, random_state=42, stratify=y)"
   ]
  },
  {
   "cell_type": "code",
   "execution_count": 6,
   "id": "d8412ff1-b362-407b-8f38-eaba2fef3434",
   "metadata": {},
   "outputs": [
    {
     "name": "stderr",
     "output_type": "stream",
     "text": [
      "Train :: ..\\isic-2024-challenge\\train-image\\image: 100%|######################| 336007/336007 [08:50<00:00, 633.96it/s]\n"
     ]
    }
   ],
   "source": [
    "# Process train images\n",
    "ids_train = X_train.isic_id.to_list()\n",
    "files_train = get_folder_files(folder_path=ORIG_IMG_DIR, image_list=ids_train)\n",
    "\n",
    "create_and_write_img(file_paths=files_train,\n",
    "                     file_ids=ids_train,\n",
    "                     file_targets=y_train,                     \n",
    "                     save_dir_0=ROOT_TRAIN_DIR_0,\n",
    "                     save_dir_1=ROOT_TRAIN_DIR_1,\n",
    "                     desc=f\"Train :: {ORIG_IMG_DIR}\")"
   ]
  },
  {
   "cell_type": "code",
   "execution_count": 7,
   "id": "c25208e0-6ffe-4918-87ba-38e9ee4e58bf",
   "metadata": {},
   "outputs": [
    {
     "name": "stderr",
     "output_type": "stream",
     "text": [
      "Train :: ..\\isic-2024-challenge\\train-image\\image: 100%|########################| 59296/59296 [01:02<00:00, 954.09it/s]\n"
     ]
    }
   ],
   "source": [
    "# Process test images\n",
    "ids_test = X_test.isic_id.to_list()\n",
    "files_test = get_folder_files(folder_path=ORIG_IMG_DIR, image_list=ids_test)\n",
    "\n",
    "create_and_write_img(file_paths=files_test,\n",
    "                     file_ids=ids_test,\n",
    "                     file_targets=y_test,                     \n",
    "                     save_dir_0=ROOT_TEST_DIR_0,\n",
    "                     save_dir_1=ROOT_TEST_DIR_1,\n",
    "                     desc=f\"Train :: {ORIG_IMG_DIR}\")"
   ]
  },
  {
   "cell_type": "code",
   "execution_count": 6,
   "id": "781b1242-7fd2-4383-bfe9-65f3d06c97b1",
   "metadata": {},
   "outputs": [
    {
     "name": "stderr",
     "output_type": "stream",
     "text": [
      "Crossval :: ..\\isic-2024-challenge\\train-image\\image: 100%|##################| 395303/395303 [05:57<00:00, 1106.83it/s]\n"
     ]
    }
   ],
   "source": [
    "# Process cross-validation images\n",
    "ids_cross = X.isic_id.to_list()\n",
    "files_cross = get_folder_files(folder_path=ORIG_IMG_DIR, image_list=ids_cross)\n",
    "\n",
    "create_and_write_img(file_paths=files_cross,\n",
    "                     file_ids=ids_cross,\n",
    "                     file_targets=y,                     \n",
    "                     save_dir_0=ROOT_CROSS_DIR_0,\n",
    "                     save_dir_1=ROOT_CROSS_DIR_1,\n",
    "                     desc=f\"Crossval :: {ORIG_IMG_DIR}\")"
   ]
  },
  {
   "cell_type": "code",
   "execution_count": 6,
   "id": "092322ae-8d23-4e05-935c-6b49feb0b5a1",
   "metadata": {},
   "outputs": [
    {
     "name": "stdout",
     "output_type": "stream",
     "text": [
      "..\\images\\train\\0 contains 335673 files\n",
      "..\\images\\train\\1 contains 334 files\n",
      "..\\images\\test\\0 contains 59237 files\n",
      "..\\images\\test\\1 contains 59 files\n",
      "..\\images\\crossval\\0 contains 394910 files\n",
      "..\\images\\crossval\\1 contains 393 files\n",
      "Total files in the train and test directories: 790606\n",
      "Total files in ..\\images: 790606\n",
      "Total cases in the dataframe: 395303\n"
     ]
    }
   ],
   "source": [
    "# Verification\n",
    "src_dirs = [ROOT_TRAIN_DIR_0, ROOT_TRAIN_DIR_1, ROOT_TEST_DIR_0, ROOT_TEST_DIR_1, ROOT_CROSS_DIR_0, ROOT_CROSS_DIR_1]\n",
    "#dest_dir = ROOT_ALL_DIR\n",
    "#rsync_images(src_dirs, dest_dir)\n",
    "\n",
    "# And check out that the copies to directores are successfull \n",
    "all_dirs = src_dirs.copy()\n",
    "#all_dirs.append(dest_dir)\n",
    "total = 0\n",
    "subtotal = 0\n",
    "for directory in all_dirs:\n",
    "    file_count = count_files(directory)\n",
    "    print(f\"{directory} contains {file_count} files\")\n",
    "    if directory in src_dirs:\n",
    "        subtotal = subtotal + file_count\n",
    "    total = total + file_count\n",
    "print(f\"Total files in the train and test directories: {subtotal}\")\n",
    "print(f\"Total files in {ROOT_IMAGE_DIR}: {total}\")\n",
    "print(f\"Total cases in the dataframe: {df.shape[0]}\")"
   ]
  },
  {
   "cell_type": "code",
   "execution_count": null,
   "id": "32160864-e0c8-4158-baa7-c88c7cf9bf8c",
   "metadata": {},
   "outputs": [],
   "source": []
  }
 ],
 "metadata": {
  "kernelspec": {
   "display_name": ".venv_common",
   "language": "python",
   "name": ".venv_common"
  },
  "language_info": {
   "codemirror_mode": {
    "name": "ipython",
    "version": 3
   },
   "file_extension": ".py",
   "mimetype": "text/x-python",
   "name": "python",
   "nbconvert_exporter": "python",
   "pygments_lexer": "ipython3",
   "version": "3.11.6"
  }
 },
 "nbformat": 4,
 "nbformat_minor": 5
}
